{
 "cells": [
  {
   "cell_type": "code",
   "execution_count": 50,
   "metadata": {},
   "outputs": [],
   "source": [
    "import pandas as pd\n"
   ]
  },
  {
   "cell_type": "code",
   "execution_count": 64,
   "metadata": {},
   "outputs": [
    {
     "data": {
      "text/plain": [
       "(29, 13)"
      ]
     },
     "execution_count": 64,
     "metadata": {},
     "output_type": "execute_result"
    }
   ],
   "source": [
    "file_path = \"/Users/emiliodulay/Documents/Programming/Math-42-Final-Project/Problem_D_Great_Lakes.xlsx\"\n",
    "df = pd.read_excel(file_path)\n",
    "df.shape"
   ]
  },
  {
   "cell_type": "code",
   "execution_count": 71,
   "metadata": {},
   "outputs": [
    {
     "data": {
      "text/plain": [
       "'Reference: https://www.lre.usace.army.mil/Missions/Great-Lakes-Information/Great-Lakes-Information-2/Water-Level-Data/'"
      ]
     },
     "execution_count": 71,
     "metadata": {},
     "output_type": "execute_result"
    }
   ],
   "source": [
    "df.head(5)\n",
    "df.iloc[2,0]"
   ]
  },
  {
   "cell_type": "code",
   "execution_count": null,
   "metadata": {},
   "outputs": [],
   "source": [
    "df.columns = df.iloc[5,:] # Subset df to only keep necessary data\n",
    "df = df.iloc[6:,].reset_index() # reset index of new df\n",
    "df = df.drop('index', axis = 1) # drop new index column\n",
    "df.columns.name = 'index' # rename index column to index"
   ]
  },
  {
   "cell_type": "code",
   "execution_count": 66,
   "metadata": {},
   "outputs": [
    {
     "data": {
      "text/html": [
       "<div>\n",
       "<style scoped>\n",
       "    .dataframe tbody tr th:only-of-type {\n",
       "        vertical-align: middle;\n",
       "    }\n",
       "\n",
       "    .dataframe tbody tr th {\n",
       "        vertical-align: top;\n",
       "    }\n",
       "\n",
       "    .dataframe thead th {\n",
       "        text-align: right;\n",
       "    }\n",
       "</style>\n",
       "<table border=\"1\" class=\"dataframe\">\n",
       "  <thead>\n",
       "    <tr style=\"text-align: right;\">\n",
       "      <th></th>\n",
       "      <th>Lake Superior - Mean Water Level</th>\n",
       "      <th>Unnamed: 1</th>\n",
       "      <th>Unnamed: 2</th>\n",
       "      <th>Unnamed: 3</th>\n",
       "      <th>Unnamed: 4</th>\n",
       "      <th>Unnamed: 5</th>\n",
       "      <th>Unnamed: 6</th>\n",
       "      <th>Unnamed: 7</th>\n",
       "      <th>Unnamed: 8</th>\n",
       "      <th>Unnamed: 9</th>\n",
       "      <th>Unnamed: 10</th>\n",
       "      <th>Unnamed: 11</th>\n",
       "      <th>Unnamed: 12</th>\n",
       "    </tr>\n",
       "  </thead>\n",
       "  <tbody>\n",
       "    <tr>\n",
       "      <th>24</th>\n",
       "      <td>2018</td>\n",
       "      <td>183.65</td>\n",
       "      <td>183.58</td>\n",
       "      <td>183.54</td>\n",
       "      <td>183.47</td>\n",
       "      <td>183.5</td>\n",
       "      <td>183.56</td>\n",
       "      <td>183.65</td>\n",
       "      <td>183.65</td>\n",
       "      <td>183.7</td>\n",
       "      <td>183.77</td>\n",
       "      <td>183.76</td>\n",
       "      <td>183.67</td>\n",
       "    </tr>\n",
       "    <tr>\n",
       "      <th>25</th>\n",
       "      <td>2019</td>\n",
       "      <td>183.62</td>\n",
       "      <td>183.58</td>\n",
       "      <td>183.57</td>\n",
       "      <td>183.61</td>\n",
       "      <td>183.77</td>\n",
       "      <td>183.84</td>\n",
       "      <td>183.86</td>\n",
       "      <td>183.86</td>\n",
       "      <td>183.86</td>\n",
       "      <td>183.88</td>\n",
       "      <td>183.81</td>\n",
       "      <td>183.74</td>\n",
       "    </tr>\n",
       "    <tr>\n",
       "      <th>26</th>\n",
       "      <td>2020</td>\n",
       "      <td>183.71</td>\n",
       "      <td>183.64</td>\n",
       "      <td>183.57</td>\n",
       "      <td>183.62</td>\n",
       "      <td>183.64</td>\n",
       "      <td>183.7</td>\n",
       "      <td>183.76</td>\n",
       "      <td>183.81</td>\n",
       "      <td>183.79</td>\n",
       "      <td>183.76</td>\n",
       "      <td>183.71</td>\n",
       "      <td>183.63</td>\n",
       "    </tr>\n",
       "    <tr>\n",
       "      <th>27</th>\n",
       "      <td>2021</td>\n",
       "      <td>183.54</td>\n",
       "      <td>183.46</td>\n",
       "      <td>183.42</td>\n",
       "      <td>183.48</td>\n",
       "      <td>183.51</td>\n",
       "      <td>183.55</td>\n",
       "      <td>183.56</td>\n",
       "      <td>183.54</td>\n",
       "      <td>183.51</td>\n",
       "      <td>183.48</td>\n",
       "      <td>183.38</td>\n",
       "      <td>183.31</td>\n",
       "    </tr>\n",
       "    <tr>\n",
       "      <th>28</th>\n",
       "      <td>2022</td>\n",
       "      <td>183.24</td>\n",
       "      <td>183.17</td>\n",
       "      <td>183.15</td>\n",
       "      <td>183.24</td>\n",
       "      <td>183.44</td>\n",
       "      <td>183.57</td>\n",
       "      <td>183.62</td>\n",
       "      <td>183.65</td>\n",
       "      <td>183.65</td>\n",
       "      <td>183.6</td>\n",
       "      <td>183.6</td>\n",
       "      <td>183.57</td>\n",
       "    </tr>\n",
       "  </tbody>\n",
       "</table>\n",
       "</div>"
      ],
      "text/plain": [
       "   Lake Superior - Mean Water Level Unnamed: 1 Unnamed: 2 Unnamed: 3  \\\n",
       "24                             2018     183.65     183.58     183.54   \n",
       "25                             2019     183.62     183.58     183.57   \n",
       "26                             2020     183.71     183.64     183.57   \n",
       "27                             2021     183.54     183.46     183.42   \n",
       "28                             2022     183.24     183.17     183.15   \n",
       "\n",
       "   Unnamed: 4 Unnamed: 5 Unnamed: 6 Unnamed: 7 Unnamed: 8 Unnamed: 9  \\\n",
       "24     183.47      183.5     183.56     183.65     183.65      183.7   \n",
       "25     183.61     183.77     183.84     183.86     183.86     183.86   \n",
       "26     183.62     183.64      183.7     183.76     183.81     183.79   \n",
       "27     183.48     183.51     183.55     183.56     183.54     183.51   \n",
       "28     183.24     183.44     183.57     183.62     183.65     183.65   \n",
       "\n",
       "   Unnamed: 10 Unnamed: 11 Unnamed: 12  \n",
       "24      183.77      183.76      183.67  \n",
       "25      183.88      183.81      183.74  \n",
       "26      183.76      183.71      183.63  \n",
       "27      183.48      183.38      183.31  \n",
       "28       183.6       183.6      183.57  "
      ]
     },
     "execution_count": 66,
     "metadata": {},
     "output_type": "execute_result"
    }
   ],
   "source": [
    "df.tail(5)"
   ]
  },
  {
   "cell_type": "code",
   "execution_count": null,
   "metadata": {},
   "outputs": [],
   "source": []
  }
 ],
 "metadata": {
  "kernelspec": {
   "display_name": ".venv",
   "language": "python",
   "name": "python3"
  },
  "language_info": {
   "codemirror_mode": {
    "name": "ipython",
    "version": 3
   },
   "file_extension": ".py",
   "mimetype": "text/x-python",
   "name": "python",
   "nbconvert_exporter": "python",
   "pygments_lexer": "ipython3",
   "version": "3.12.0"
  }
 },
 "nbformat": 4,
 "nbformat_minor": 2
}
